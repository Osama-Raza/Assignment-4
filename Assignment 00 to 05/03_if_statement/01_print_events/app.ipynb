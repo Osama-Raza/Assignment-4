{
 "cells": [
  {
   "cell_type": "code",
   "execution_count": 2,
   "id": "f311ed85",
   "metadata": {},
   "outputs": [
    {
     "name": "stdout",
     "output_type": "stream",
     "text": [
      "even 0\n",
      "even 2\n",
      "even 4\n",
      "even 6\n",
      "even 8\n",
      "even 10\n",
      "even 12\n",
      "even 14\n",
      "even 16\n",
      "even 18\n",
      "even 20\n",
      "even 22\n",
      "even 24\n",
      "even 26\n",
      "even 28\n",
      "even 30\n",
      "even 32\n",
      "even 34\n",
      "even 36\n",
      "even 38\n"
     ]
    }
   ],
   "source": [
    "int_num = 0\n",
    "for val in range (20):\n",
    "    print('even' , int_num)\n",
    "    int_num+=2"
   ]
  }
 ],
 "metadata": {
  "kernelspec": {
   "display_name": "Python 3",
   "language": "python",
   "name": "python3"
  },
  "language_info": {
   "codemirror_mode": {
    "name": "ipython",
    "version": 3
   },
   "file_extension": ".py",
   "mimetype": "text/x-python",
   "name": "python",
   "nbconvert_exporter": "python",
   "pygments_lexer": "ipython3",
   "version": "3.13.2"
  }
 },
 "nbformat": 4,
 "nbformat_minor": 5
}
