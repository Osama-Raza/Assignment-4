{
 "cells": [
  {
   "cell_type": "code",
   "execution_count": 2,
   "id": "e901553e",
   "metadata": {},
   "outputs": [
    {
     "name": "stdout",
     "output_type": "stream",
     "text": [
      "You're not tall enough to ride, but maybe next year!\n",
      "You're tall enough to ride!\n"
     ]
    }
   ],
   "source": [
    "def tall_enough_extension():\n",
    "    ask_height = int(input('How tall are you? '))\n",
    "    if ask_height >= 100:\n",
    "        print(\"You're tall enough to ride!\")\n",
    "    elif ask_height <= 99:\n",
    "        for val in range (1):\n",
    "\n",
    "            print (\"You're not tall enough to ride, but maybe next year!\")\n",
    "            tall_enough_extension()\n",
    "tall_enough_extension()"
   ]
  }
 ],
 "metadata": {
  "kernelspec": {
   "display_name": "Python 3",
   "language": "python",
   "name": "python3"
  },
  "language_info": {
   "codemirror_mode": {
    "name": "ipython",
    "version": 3
   },
   "file_extension": ".py",
   "mimetype": "text/x-python",
   "name": "python",
   "nbconvert_exporter": "python",
   "pygments_lexer": "ipython3",
   "version": "3.13.2"
  }
 },
 "nbformat": 4,
 "nbformat_minor": 5
}
