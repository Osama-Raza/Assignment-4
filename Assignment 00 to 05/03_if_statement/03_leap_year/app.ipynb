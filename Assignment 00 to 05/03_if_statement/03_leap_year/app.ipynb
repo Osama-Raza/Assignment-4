{
 "cells": [
  {
   "cell_type": "code",
   "execution_count": 1,
   "id": "225b0018",
   "metadata": {},
   "outputs": [
    {
     "name": "stdout",
     "output_type": "stream",
     "text": [
      "2024 is a leap year\n"
     ]
    }
   ],
   "source": [
    "ask_user = int(input('Enter year '))\n",
    "divisible_by_4 : int = 4\n",
    "divisible_by_100 : int = 100\n",
    "divisible_by_400 : int = 400\n",
    "if (ask_user % divisible_by_4 == 0 and ask_user % divisible_by_100 != 0) or ask_user % divisible_by_400 == 0:\n",
    "    print(f'{ask_user} is a leap year')\n",
    "else:\n",
    "    print(f'{ask_user} is not a leap year.')"
   ]
  }
 ],
 "metadata": {
  "kernelspec": {
   "display_name": "Python 3",
   "language": "python",
   "name": "python3"
  },
  "language_info": {
   "codemirror_mode": {
    "name": "ipython",
    "version": 3
   },
   "file_extension": ".py",
   "mimetype": "text/x-python",
   "name": "python",
   "nbconvert_exporter": "python",
   "pygments_lexer": "ipython3",
   "version": "3.13.2"
  }
 },
 "nbformat": 4,
 "nbformat_minor": 5
}
