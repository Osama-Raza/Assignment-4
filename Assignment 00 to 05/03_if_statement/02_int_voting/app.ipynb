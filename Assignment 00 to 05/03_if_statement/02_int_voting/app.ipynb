{
 "cells": [
  {
   "cell_type": "code",
   "execution_count": 3,
   "id": "0700b4bc",
   "metadata": {},
   "outputs": [
    {
     "name": "stdout",
     "output_type": "stream",
     "text": [
      "Your age is 22. You can vote in Peturksbouipo where the voting age is 16.\n"
     ]
    }
   ],
   "source": [
    "vote_age = int(input (\"Enter your age: \"))\n",
    "if vote_age >= 16 and vote_age < 25:\n",
    "    print(f'Your age is {vote_age}. You can vote in Peturksbouipo where the voting age is 16.')\n",
    "elif vote_age >= 25 and vote_age < 48:\n",
    "     print(f'Your age is {vote_age}. You can vote in Stanlau where the voting age is 25.')\n",
    "else:\n",
    "     print (f'Your age is {vote_age}. You cannot vote in Mayengua where the voting age is 48.')"
   ]
  }
 ],
 "metadata": {
  "kernelspec": {
   "display_name": "Python 3",
   "language": "python",
   "name": "python3"
  },
  "language_info": {
   "codemirror_mode": {
    "name": "ipython",
    "version": 3
   },
   "file_extension": ".py",
   "mimetype": "text/x-python",
   "name": "python",
   "nbconvert_exporter": "python",
   "pygments_lexer": "ipython3",
   "version": "3.13.2"
  }
 },
 "nbformat": 4,
 "nbformat_minor": 5
}
