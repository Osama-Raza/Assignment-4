{
 "cells": [
  {
   "cell_type": "code",
   "execution_count": 2,
   "id": "13a4b281",
   "metadata": {},
   "outputs": [
    {
     "name": "stdout",
     "output_type": "stream",
     "text": [
      "Your guess is too low\n",
      "Congrats! The number was: 48\n",
      "End\n"
     ]
    }
   ],
   "source": [
    "correct_num : int = 48\n",
    "ask_user = int(input('Guess a number between 0 to 99: '))\n",
    "while correct_num != ask_user:\n",
    "     if ask_user < correct_num:\n",
    "         print('Your guess is too low')\n",
    "     else:\n",
    "         print('Your guess is too high')\n",
    "     ask_user : int = int(input('Try again '))\n",
    "\n",
    "print(f'Congrats! The number was: {correct_num}')\n",
    "\n",
    "print ('End')"
   ]
  }
 ],
 "metadata": {
  "kernelspec": {
   "display_name": "Python 3",
   "language": "python",
   "name": "python3"
  },
  "language_info": {
   "codemirror_mode": {
    "name": "ipython",
    "version": 3
   },
   "file_extension": ".py",
   "mimetype": "text/x-python",
   "name": "python",
   "nbconvert_exporter": "python",
   "pygments_lexer": "ipython3",
   "version": "3.13.2"
  }
 },
 "nbformat": 4,
 "nbformat_minor": 5
}
