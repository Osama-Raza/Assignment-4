{
 "cells": [
  {
   "cell_type": "code",
   "execution_count": 12,
   "id": "a17038e1",
   "metadata": {},
   "outputs": [
    {
     "name": "stdout",
     "output_type": "stream",
     "text": [
      "4.0\n"
     ]
    }
   ],
   "source": [
    "def two_nums(num_1:float , num_2:float):\n",
    "      avrege = (num_1 + num_2) / 2\n",
    "      print(avrege)\n",
    "a: int = int(input('Enter first number'))\n",
    "b: int = int(input('Enter second number'))\n",
    "\n",
    "two_nums(a,b)"
   ]
  }
 ],
 "metadata": {
  "kernelspec": {
   "display_name": "Python 3",
   "language": "python",
   "name": "python3"
  },
  "language_info": {
   "codemirror_mode": {
    "name": "ipython",
    "version": 3
   },
   "file_extension": ".py",
   "mimetype": "text/x-python",
   "name": "python",
   "nbconvert_exporter": "python",
   "pygments_lexer": "ipython3",
   "version": "3.13.2"
  }
 },
 "nbformat": 4,
 "nbformat_minor": 5
}
