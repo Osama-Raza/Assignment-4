{
 "cells": [
  {
   "cell_type": "code",
   "execution_count": null,
   "id": "4c17af7a",
   "metadata": {},
   "outputs": [
    {
     "name": "stdout",
     "output_type": "stream",
     "text": [
      "Die 1 : 2 \n",
      "Die 2 : 4 \n",
      "After asdding two dice : 6 \n"
     ]
    }
   ],
   "source": [
    "import random\n",
    "def roll_two_dice():\n",
    "    die_1 : int = random.randint(1,6)\n",
    "    die_2 : int = random.randint(1,6)\n",
    "    print(f'Die 1 : {die_1} ')\n",
    "    print(f'Die 2 : {die_2} ')\n",
    "    print(f'After adding two dice : {die_1 + die_2} ')\n",
    "roll_two_dice()\n"
   ]
  }
 ],
 "metadata": {
  "kernelspec": {
   "display_name": "Python 3",
   "language": "python",
   "name": "python3"
  },
  "language_info": {
   "codemirror_mode": {
    "name": "ipython",
    "version": 3
   },
   "file_extension": ".py",
   "mimetype": "text/x-python",
   "name": "python",
   "nbconvert_exporter": "python",
   "pygments_lexer": "ipython3",
   "version": "3.13.2"
  }
 },
 "nbformat": 4,
 "nbformat_minor": 5
}
