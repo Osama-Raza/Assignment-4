{
 "cells": [
  {
   "cell_type": "code",
   "execution_count": 1,
   "id": "be61fc96",
   "metadata": {},
   "outputs": [
    {
     "name": "stdout",
     "output_type": "stream",
     "text": [
      "Mass: 100.0 kg\n",
      "C: 299792458 m/s\n",
      "8.987551787368176e+18 joules of energy!\n"
     ]
    }
   ],
   "source": [
    "mass : int = float(input('Enter kilos of mass: \\n'))\n",
    "c : int = 299792458\n",
    "e : int = mass * c**2\n",
    "print (f'Mass: {mass} kg')\n",
    "print (f'C: {c} m/s')\n",
    "print (f'{e} joules of energy!')"
   ]
  }
 ],
 "metadata": {
  "kernelspec": {
   "display_name": "Python 3",
   "language": "python",
   "name": "python3"
  },
  "language_info": {
   "codemirror_mode": {
    "name": "ipython",
    "version": 3
   },
   "file_extension": ".py",
   "mimetype": "text/x-python",
   "name": "python",
   "nbconvert_exporter": "python",
   "pygments_lexer": "ipython3",
   "version": "3.13.2"
  }
 },
 "nbformat": 4,
 "nbformat_minor": 5
}
