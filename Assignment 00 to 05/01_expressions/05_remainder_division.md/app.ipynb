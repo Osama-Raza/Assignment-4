{
 "cells": [
  {
   "cell_type": "code",
   "execution_count": 8,
   "id": "311a8296",
   "metadata": {},
   "outputs": [
    {
     "name": "stdout",
     "output_type": "stream",
     "text": [
      "The result of this division is : 1.0\n",
      "A remainder is : 2.0\n"
     ]
    }
   ],
   "source": [
    "number_divided : str = input('Please enter an integer to be divided: \\n')\n",
    "number_divided : int = int(number_divided)\n",
    "number_divide : int = float(input('Please enter an integer to divide by: \\n'))\n",
    "divided_value : int = number_divided // number_divide\n",
    "remainder_value : int = number_divided % number_divide\n",
    "print ('The result of this division is :' ,divided_value)\n",
    "print ('A remainder is :' ,remainder_value)\n"
   ]
  }
 ],
 "metadata": {
  "kernelspec": {
   "display_name": "Python 3",
   "language": "python",
   "name": "python3"
  },
  "language_info": {
   "codemirror_mode": {
    "name": "ipython",
    "version": 3
   },
   "file_extension": ".py",
   "mimetype": "text/x-python",
   "name": "python",
   "nbconvert_exporter": "python",
   "pygments_lexer": "ipython3",
   "version": "3.13.2"
  }
 },
 "nbformat": 4,
 "nbformat_minor": 5
}
