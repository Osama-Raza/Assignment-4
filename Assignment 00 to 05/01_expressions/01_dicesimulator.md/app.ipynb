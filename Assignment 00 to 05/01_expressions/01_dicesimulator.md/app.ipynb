{
 "cells": [
  {
   "cell_type": "code",
   "execution_count": null,
   "id": "b6353cbc",
   "metadata": {},
   "outputs": [
    {
     "name": "stdout",
     "output_type": "stream",
     "text": [
      "Dice 1: 6 , Dice 2: 1\n",
      "Dice 1: 4 , Dice 2: 2\n",
      "Dice 1: 3 , Dice 2: 3\n"
     ]
    }
   ],
   "source": [
    "import random\n",
    "def roll_die():\n",
    "    die_1 : int = random.randint(1 ,6)\n",
    "    print(die_1)\n",
    "\n",
    "def roll_two_dice():\n",
    "    die_1 : int = random.randint(1 ,6)\n",
    "    die_2 : int = random.randint(1 ,6)\n",
    "    print(f'Die 1: {die_1} , Die 2: {die_2}')\n",
    "\n",
    "for i in range(3):\n",
    "     roll_two_dice()"
   ]
  }
 ],
 "metadata": {
  "kernelspec": {
   "display_name": "Python 3",
   "language": "python",
   "name": "python3"
  },
  "language_info": {
   "codemirror_mode": {
    "name": "ipython",
    "version": 3
   },
   "file_extension": ".py",
   "mimetype": "text/x-python",
   "name": "python",
   "nbconvert_exporter": "python",
   "pygments_lexer": "ipython3",
   "version": "3.13.2"
  }
 },
 "nbformat": 4,
 "nbformat_minor": 5
}
