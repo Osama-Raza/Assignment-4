{
 "cells": [
  {
   "cell_type": "code",
   "execution_count": 4,
   "id": "56065203",
   "metadata": {},
   "outputs": [
    {
     "name": "stdout",
     "output_type": "stream",
     "text": [
      "Code in Place is fun. I learned to program and used Python to make my small boy paly\n"
     ]
    }
   ],
   "source": [
    "adj : str = input('Please type an adjective and press enter')\n",
    "noun : str = input('Please type a noun and press enter')\n",
    "verb : str = input('Please type a verb and press enter')\n",
    "print(f'Code in Place is fun. I learned to program and used Python to make my {adj} {noun} {verb}')"
   ]
  }
 ],
 "metadata": {
  "kernelspec": {
   "display_name": "Python 3",
   "language": "python",
   "name": "python3"
  },
  "language_info": {
   "codemirror_mode": {
    "name": "ipython",
    "version": 3
   },
   "file_extension": ".py",
   "mimetype": "text/x-python",
   "name": "python",
   "nbconvert_exporter": "python",
   "pygments_lexer": "ipython3",
   "version": "3.13.2"
  }
 },
 "nbformat": 4,
 "nbformat_minor": 5
}
