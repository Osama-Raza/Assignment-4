{
 "cells": [
  {
   "cell_type": "markdown",
   "id": "58f98caa",
   "metadata": {},
   "source": []
  },
  {
   "cell_type": "code",
   "execution_count": null,
   "id": "02922cda",
   "metadata": {},
   "outputs": [
    {
     "name": "stdout",
     "output_type": "stream",
     "text": [
      "Total hours in one year are: 8760\n"
     ]
    }
   ],
   "source": [
    "DAYS_IN_YEAR : int = 365\n",
    "HOURS_IN_DAY : int = 24\n",
    "MINUTES_IN_HOUR : int = 60\n",
    "SECONDS_IN_MINUTES : int = 60\n"
   ]
  },
  {
   "cell_type": "markdown",
   "id": "384f7756",
   "metadata": {},
   "source": [
    "# Hours in one year"
   ]
  },
  {
   "cell_type": "code",
   "execution_count": null,
   "id": "fef85114",
   "metadata": {},
   "outputs": [
    {
     "name": "stdout",
     "output_type": "stream",
     "text": [
      "Total hours in one year are: 8760\n"
     ]
    }
   ],
   "source": [
    "def hours_in_year():\n",
    "    total_hours : int = HOURS_IN_DAY * DAYS_IN_YEAR\n",
    "    print(f'Total hours in one year are: {total_hours} hours')\n",
    "hours_in_year()"
   ]
  },
  {
   "cell_type": "markdown",
   "id": "feb400c0",
   "metadata": {},
   "source": [
    "# Minutes in year"
   ]
  },
  {
   "cell_type": "code",
   "execution_count": null,
   "id": "2d8f7e48",
   "metadata": {},
   "outputs": [
    {
     "name": "stdout",
     "output_type": "stream",
     "text": [
      "Total minutes in one year are: 525600\n"
     ]
    }
   ],
   "source": [
    "def minutes_in_year():\n",
    "    total_minutes : int = MINUTES_IN_HOUR * DAYS_IN_YEAR * HOURS_IN_DAY\n",
    "    print(f'Total minutes in one year are: {total_minutes} minutes')\n",
    "minutes_in_year()"
   ]
  },
  {
   "cell_type": "markdown",
   "id": "711ef8c4",
   "metadata": {},
   "source": [
    "# Seconds in one year\n"
   ]
  },
  {
   "cell_type": "code",
   "execution_count": 9,
   "id": "b5813dd6",
   "metadata": {},
   "outputs": [
    {
     "name": "stdout",
     "output_type": "stream",
     "text": [
      "Total seconds in one year are: 31536000 seconds\n"
     ]
    }
   ],
   "source": [
    "def seconds_in_year():\n",
    "    total_seconds : int = MINUTES_IN_HOUR * DAYS_IN_YEAR * HOURS_IN_DAY * SECONDS_IN_MINUTES\n",
    "    print(f'Total seconds in one year are: {total_seconds} seconds')\n",
    "seconds_in_year()"
   ]
  }
 ],
 "metadata": {
  "kernelspec": {
   "display_name": "Python 3",
   "language": "python",
   "name": "python3"
  },
  "language_info": {
   "codemirror_mode": {
    "name": "ipython",
    "version": 3
   },
   "file_extension": ".py",
   "mimetype": "text/x-python",
   "name": "python",
   "nbconvert_exporter": "python",
   "pygments_lexer": "ipython3",
   "version": "3.13.2"
  }
 },
 "nbformat": 4,
 "nbformat_minor": 5
}
