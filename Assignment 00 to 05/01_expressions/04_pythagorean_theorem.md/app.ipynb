{
 "cells": [
  {
   "cell_type": "code",
   "execution_count": 2,
   "id": "d1c93430",
   "metadata": {},
   "outputs": [
    {
     "name": "stdout",
     "output_type": "stream",
     "text": [
      "20.0\n",
      "Hypothses: 4.47213595499958\n"
     ]
    }
   ],
   "source": [
    "import math\n",
    "\n",
    "perpendicular : int = float (input ('Enter the length of perpendicular: \\n'))\n",
    "base : int = float (input ('Enter the length of base: \\n'))\n",
    "hypothesis: int = perpendicular*2 + base*2\n",
    "print (hypothesis )\n",
    "square_root : int = math.sqrt(hypothesis)\n",
    "print ('Hypothses:',square_root)"
   ]
  }
 ],
 "metadata": {
  "kernelspec": {
   "display_name": "Python 3",
   "language": "python",
   "name": "python3"
  },
  "language_info": {
   "codemirror_mode": {
    "name": "ipython",
    "version": 3
   },
   "file_extension": ".py",
   "mimetype": "text/x-python",
   "name": "python",
   "nbconvert_exporter": "python",
   "pygments_lexer": "ipython3",
   "version": "3.13.2"
  }
 },
 "nbformat": 4,
 "nbformat_minor": 5
}
