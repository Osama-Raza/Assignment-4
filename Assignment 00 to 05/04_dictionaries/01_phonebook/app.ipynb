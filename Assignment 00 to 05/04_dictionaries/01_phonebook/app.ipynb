{
 "cells": [
  {
   "cell_type": "code",
   "execution_count": 1,
   "id": "45f2bc89",
   "metadata": {},
   "outputs": [
    {
     "name": "stdout",
     "output_type": "stream",
     "text": [
      " This is osama 03323145264\n"
     ]
    }
   ],
   "source": [
    "empty_dict : dict = {}\n",
    "ask_name : str =  input ('Enter your name ')\n",
    "ask_phone  = input('Enter phone number ')\n",
    "if len(ask_phone) == 11 and ask_phone.isdigit():\n",
    "    empty_dict[ask_name] = ask_phone\n",
    "else:\n",
    "    print('Invalid Number')\n",
    "for person, number in empty_dict.items():\n",
    "    print (f' This is {person} {number}')"
   ]
  }
 ],
 "metadata": {
  "kernelspec": {
   "display_name": "Python 3",
   "language": "python",
   "name": "python3"
  },
  "language_info": {
   "codemirror_mode": {
    "name": "ipython",
    "version": 3
   },
   "file_extension": ".py",
   "mimetype": "text/x-python",
   "name": "python",
   "nbconvert_exporter": "python",
   "pygments_lexer": "ipython3",
   "version": "3.13.2"
  }
 },
 "nbformat": 4,
 "nbformat_minor": 5
}
