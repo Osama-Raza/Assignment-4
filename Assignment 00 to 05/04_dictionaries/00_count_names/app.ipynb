{
 "cells": [
  {
   "cell_type": "code",
   "execution_count": 1,
   "id": "9797b0e8",
   "metadata": {},
   "outputs": [
    {
     "name": "stdout",
     "output_type": "stream",
     "text": [
      "5 appears 3 times\n",
      "4 appears 1 times\n",
      "6 appears 1 times\n",
      "7 appears 1 times\n"
     ]
    }
   ],
   "source": [
    "empty_dict : dict = {}\n",
    "for val in range(6):\n",
    "    ask_user = int(input('enter a number '))\n",
    "    if ask_user in empty_dict:\n",
    "        empty_dict[ask_user] += 1\n",
    "    else:\n",
    "        empty_dict[ask_user] = 1\n",
    "for number, count in empty_dict.items():\n",
    "    print(f'{number} appears {count} times')"
   ]
  }
 ],
 "metadata": {
  "kernelspec": {
   "display_name": "Python 3",
   "language": "python",
   "name": "python3"
  },
  "language_info": {
   "codemirror_mode": {
    "name": "ipython",
    "version": 3
   },
   "file_extension": ".py",
   "mimetype": "text/x-python",
   "name": "python",
   "nbconvert_exporter": "python",
   "pygments_lexer": "ipython3",
   "version": "3.13.2"
  }
 },
 "nbformat": 4,
 "nbformat_minor": 5
}
