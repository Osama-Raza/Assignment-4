{
 "cells": [
  {
   "cell_type": "code",
   "execution_count": 2,
   "id": "0af46764",
   "metadata": {},
   "outputs": [
    {
     "name": "stdout",
     "output_type": "stream",
     "text": [
      "inside ['ab', 'ab', 'ab']\n",
      "outside ['ab', 'ab', 'ab']\n"
     ]
    }
   ],
   "source": [
    "def add_three_copies(my_list, message):\n",
    "    for val in range(3):\n",
    "        my_list.append(message)\n",
    "    print('inside' , my_list)\n",
    "empty_list = []\n",
    "ask_user =input('Enter outside message ')\n",
    "add_three_copies(empty_list, ask_user)\n",
    "print('outside',empty_list)"
   ]
  }
 ],
 "metadata": {
  "kernelspec": {
   "display_name": "Python 3",
   "language": "python",
   "name": "python3"
  },
  "language_info": {
   "codemirror_mode": {
    "name": "ipython",
    "version": 3
   },
   "file_extension": ".py",
   "mimetype": "text/x-python",
   "name": "python",
   "nbconvert_exporter": "python",
   "pygments_lexer": "ipython3",
   "version": "3.13.2"
  }
 },
 "nbformat": 4,
 "nbformat_minor": 5
}
