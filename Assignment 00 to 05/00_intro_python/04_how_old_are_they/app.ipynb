{
 "cells": [
  {
   "cell_type": "code",
   "execution_count": 1,
   "id": "9244a906",
   "metadata": {},
   "outputs": [
    {
     "name": "stdout",
     "output_type": "stream",
     "text": [
      "Anthon is 21\n",
      "Beth is 27\n",
      "Chen is 47\n",
      "Drew is 68\n",
      "Ethan is 47\n"
     ]
    }
   ],
   "source": [
    "Anthon : int  = 21\n",
    "Beth : int = Anthon + 6\n",
    "Chen : int = Beth  + 20\n",
    "Drew : int =  Chen + Anthon\n",
    "Ethan : int  = Chen\n",
    "\n",
    "print(f'Anthon is {Anthon}')\n",
    "print(f'Beth is {Beth}')\n",
    "print(f'Chen is {Chen}')\n",
    "print(f'Drew is {Drew}')\n",
    "print(f'Ethan is {Ethan}')"
   ]
  }
 ],
 "metadata": {
  "kernelspec": {
   "display_name": "Python 3",
   "language": "python",
   "name": "python3"
  },
  "language_info": {
   "codemirror_mode": {
    "name": "ipython",
    "version": 3
   },
   "file_extension": ".py",
   "mimetype": "text/x-python",
   "name": "python",
   "nbconvert_exporter": "python",
   "pygments_lexer": "ipython3",
   "version": "3.13.2"
  }
 },
 "nbformat": 4,
 "nbformat_minor": 5
}
