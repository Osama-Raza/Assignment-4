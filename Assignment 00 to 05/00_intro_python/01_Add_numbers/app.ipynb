{
 "cells": [
  {
   "cell_type": "code",
   "execution_count": 2,
   "id": "6a29597d",
   "metadata": {},
   "outputs": [
    {
     "name": "stdout",
     "output_type": "stream",
     "text": [
      "<class 'int'> 4\n",
      "<class 'int'> 6\n",
      "Total of two number is 10\n"
     ]
    }
   ],
   "source": [
    "number_1  = input('Enter the first number: ')\n",
    "number_1 : int = int(number_1)\n",
    "print(type(number_1) , number_1) \n",
    "\n",
    "number_2  = input('Enter the second number: ')\n",
    "number_2 : int = int(number_2)\n",
    "print(type(number_2) , number_2) \n",
    "\n",
    "total : int = number_1 + number_2\n",
    "print(f'Total of two number is {total}')"
   ]
  }
 ],
 "metadata": {
  "kernelspec": {
   "display_name": "Python 3",
   "language": "python",
   "name": "python3"
  },
  "language_info": {
   "codemirror_mode": {
    "name": "ipython",
    "version": 3
   },
   "file_extension": ".py",
   "mimetype": "text/x-python",
   "name": "python",
   "nbconvert_exporter": "python",
   "pygments_lexer": "ipython3",
   "version": "3.13.2"
  }
 },
 "nbformat": 4,
 "nbformat_minor": 5
}
