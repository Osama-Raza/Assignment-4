{
 "cells": [
  {
   "cell_type": "code",
   "execution_count": 1,
   "id": "217ab1c5",
   "metadata": {},
   "outputs": [
    {
     "name": "stdout",
     "output_type": "stream",
     "text": [
      "The perimeter of the triangle is: 18.0 \n"
     ]
    }
   ],
   "source": [
    "side_1 : str = input('What is the length of side 1 ? ')\n",
    "side_1 : int = int(side_1)\n",
    "side_2 : str = float(input('What is the length of side 2 ? ')) \n",
    "side_3 : str = input('What is the length of side 3 ? ') \n",
    "side_3 : int = int(side_3)\n",
    "print(f'The perimeter of the triangle is: {side_1 + side_2 + side_3} ')"
   ]
  }
 ],
 "metadata": {
  "kernelspec": {
   "display_name": "Python 3",
   "language": "python",
   "name": "python3"
  },
  "language_info": {
   "codemirror_mode": {
    "name": "ipython",
    "version": 3
   },
   "file_extension": ".py",
   "mimetype": "text/x-python",
   "name": "python",
   "nbconvert_exporter": "python",
   "pygments_lexer": "ipython3",
   "version": "3.13.2"
  }
 },
 "nbformat": 4,
 "nbformat_minor": 5
}
