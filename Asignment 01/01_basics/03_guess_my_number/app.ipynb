{
 "cells": [
  {
   "cell_type": "code",
   "execution_count": 1,
   "id": "6ffc666d",
   "metadata": {},
   "outputs": [
    {
     "name": "stdout",
     "output_type": "stream",
     "text": [
      "Your guess is too low\n",
      "Your guess is too low\n",
      "Your guess is too high\n",
      "Your guess is too low\n",
      "Your guess is too low\n",
      "Your guess is too low\n",
      "Congrats! The number was: 48\n"
     ]
    }
   ],
   "source": [
    "correct_number:int = 48\n",
    "while True:\n",
    "    ask_user:int = int(input('Enter a new number :'))\n",
    "    if ask_user == correct_number:\n",
    "        print(f'Congrats! The number was: {correct_number}')\n",
    "        break\n",
    "    elif ask_user > correct_number:\n",
    "        print('Your guess is too high')\n",
    "    else:\n",
    "        print('Your guess is too low')"
   ]
  }
 ],
 "metadata": {
  "kernelspec": {
   "display_name": "Python 3",
   "language": "python",
   "name": "python3"
  },
  "language_info": {
   "codemirror_mode": {
    "name": "ipython",
    "version": 3
   },
   "file_extension": ".py",
   "mimetype": "text/x-python",
   "name": "python",
   "nbconvert_exporter": "python",
   "pygments_lexer": "ipython3",
   "version": "3.13.2"
  }
 },
 "nbformat": 4,
 "nbformat_minor": 5
}
