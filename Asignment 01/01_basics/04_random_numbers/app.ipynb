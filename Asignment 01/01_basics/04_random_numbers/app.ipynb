{
 "cells": [
  {
   "cell_type": "code",
   "execution_count": 7,
   "id": "9bac693a",
   "metadata": {},
   "outputs": [
    {
     "name": "stdout",
     "output_type": "stream",
     "text": [
      "Ten random numbers between 1-100 are :\n",
      "93 90 60 63 97 2 90 21 42 23 "
     ]
    }
   ],
   "source": [
    "import random \n",
    "def main():\n",
    "    print('Ten random numbers between 1-100 are :')\n",
    "    for i in range(10):\n",
    "        value = random.randint(1,100)\n",
    "        print(value , end=' ')\n",
    "if __name__ == '__main__':\n",
    "    main()"
   ]
  }
 ],
 "metadata": {
  "kernelspec": {
   "display_name": "Python 3",
   "language": "python",
   "name": "python3"
  },
  "language_info": {
   "codemirror_mode": {
    "name": "ipython",
    "version": 3
   },
   "file_extension": ".py",
   "mimetype": "text/x-python",
   "name": "python",
   "nbconvert_exporter": "python",
   "pygments_lexer": "ipython3",
   "version": "3.13.2"
  }
 },
 "nbformat": 4,
 "nbformat_minor": 5
}
