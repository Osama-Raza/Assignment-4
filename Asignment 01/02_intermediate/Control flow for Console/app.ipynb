{
 "cells": [
  {
   "cell_type": "code",
   "execution_count": 3,
   "id": "c0479824",
   "metadata": {},
   "outputs": [
    {
     "name": "stdout",
     "output_type": "stream",
     "text": [
      "Welcome to the High-Low Game! \n",
      "\n",
      "-----------------------------\n",
      "\n",
      " Round: 1\n",
      "Your number is 222\n",
      "Please enter number between 1-100\n",
      "\n",
      " Round: 2\n",
      "Your number is 3\n",
      "Aww, that's incorrect. Computer number is: 69\n",
      "Your score is now  0\n",
      "\n",
      " Round: 3\n"
     ]
    },
    {
     "ename": "ValueError",
     "evalue": "invalid literal for int() with base 10: 'lw'",
     "output_type": "error",
     "traceback": [
      "\u001b[31m---------------------------------------------------------------------------\u001b[39m",
      "\u001b[31mValueError\u001b[39m                                Traceback (most recent call last)",
      "\u001b[36mCell\u001b[39m\u001b[36m \u001b[39m\u001b[32mIn[3]\u001b[39m\u001b[32m, line 11\u001b[39m\n\u001b[32m      8\u001b[39m \u001b[38;5;28mprint\u001b[39m (\u001b[33m'\u001b[39m\u001b[38;5;130;01m\\n\u001b[39;00m\u001b[33m Round:\u001b[39m\u001b[33m'\u001b[39m ,NUM_ROUNDS )\n\u001b[32m      9\u001b[39m NUM_ROUNDS += \u001b[32m1\u001b[39m\n\u001b[32m---> \u001b[39m\u001b[32m11\u001b[39m user_input : \u001b[38;5;28mint\u001b[39m = \u001b[38;5;28;43mint\u001b[39;49m\u001b[43m(\u001b[49m\u001b[38;5;28;43minput\u001b[39;49m\u001b[43m(\u001b[49m\u001b[33;43m'\u001b[39;49m\u001b[33;43mGuess a number between 1-100: \u001b[39;49m\u001b[33;43m'\u001b[39;49m\u001b[43m)\u001b[49m\u001b[43m)\u001b[49m\n\u001b[32m     12\u001b[39m \u001b[38;5;28mprint\u001b[39m (\u001b[33mf\u001b[39m\u001b[33m'\u001b[39m\u001b[33mYour number is \u001b[39m\u001b[38;5;132;01m{\u001b[39;00muser_input\u001b[38;5;132;01m}\u001b[39;00m\u001b[33m'\u001b[39m)\n\u001b[32m     13\u001b[39m user_response : \u001b[38;5;28mstr\u001b[39m = \u001b[38;5;28minput\u001b[39m(\u001b[33m\"\u001b[39m\u001b[33mDo you think your number is higher or lower than the computer\u001b[39m\u001b[33m'\u001b[39m\u001b[33ms?: \u001b[39m\u001b[33m\"\u001b[39m).strip().lower()\n",
      "\u001b[31mValueError\u001b[39m: invalid literal for int() with base 10: 'lw'"
     ]
    }
   ],
   "source": [
    "print ('Welcome to the High-Low Game! \\n')\n",
    "print ('-' *29)\n",
    "NUM_ROUNDS : int = 1\n",
    "count_num = 0\n",
    "import random\n",
    "while NUM_ROUNDS < 5:\n",
    "\n",
    "    print ('\\n Round:' ,NUM_ROUNDS )\n",
    "    NUM_ROUNDS += 1\n",
    "\n",
    "    user_input : int = int(input('Guess a number between 1-100: '))\n",
    "    print (f'Your number is {user_input}')\n",
    "    user_response : str = input(\"Do you think your number is higher or lower than the computer's?: \").strip().lower()\n",
    "\n",
    "\n",
    "    for i in range (1):\n",
    "        value = random.randint(1,100)\n",
    "        if (0 <= user_input < value and user_response == 'lower') or (0 <= user_input > value and user_response == 'higher'):\n",
    "            print ('You were right! Computer number is:' ,value , '\\n')\n",
    "            count_num += 1\n",
    "            print ('Your score is now ' , count_num)\n",
    "        elif ((user_input < 0) or (user_input > 100) ):\n",
    "            print('Please enter number between 1-100')\n",
    "        else:\n",
    "            print(\"Aww, that's incorrect. Computer number is:\" , value)\n",
    "            print ('Your score is now ' , count_num)\n",
    "\n",
    "            break\n",
    "if count_num == 5:\n",
    "    print (\"Wow! You played perfectly!\")\n",
    "elif count_num >= 3:\n",
    "    print (\"Good job, you played really well!\")\n",
    "else:\n",
    "    print (\"Better luck next time!\")"
   ]
  }
 ],
 "metadata": {
  "kernelspec": {
   "display_name": "Python 3",
   "language": "python",
   "name": "python3"
  },
  "language_info": {
   "codemirror_mode": {
    "name": "ipython",
    "version": 3
   },
   "file_extension": ".py",
   "mimetype": "text/x-python",
   "name": "python",
   "nbconvert_exporter": "python",
   "pygments_lexer": "ipython3",
   "version": "3.13.2"
  }
 },
 "nbformat": 4,
 "nbformat_minor": 5
}
