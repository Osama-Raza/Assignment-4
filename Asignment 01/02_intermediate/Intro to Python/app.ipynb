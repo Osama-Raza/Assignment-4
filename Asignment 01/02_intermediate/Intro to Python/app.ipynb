{
 "cells": [
  {
   "cell_type": "code",
   "execution_count": null,
   "id": "33c7c33e",
   "metadata": {},
   "outputs": [
    {
     "name": "stdout",
     "output_type": "stream",
     "text": [
      "16.84\n"
     ]
    }
   ],
   "source": [
    "mercury = 37.6\n",
    "venus = 88.9\n",
    "mars = 37.8\n",
    "jupiter = 236.0\n",
    "saturn = 108.1\n",
    "uranus = 81.5\n",
    "neptune = 114.0\n",
    "\n",
    "weight : float = float(input(\"Enter a weight on Earth: \"))\n",
    "planet_name = input(\"Enter planet name: \").strip().lower()\n",
    "if planet_name == 'mercury':\n",
    "    ans = (weight * mercury) / 100\n",
    "    print(round (ans , 2))\n",
    "elif planet_name == 'venus':\n",
    "    ans = (weight * venus) / 100\n",
    "    print(round(ans , 2))\n",
    "elif planet_name == 'mars':\n",
    "    ans = (weight * mars) / 100\n",
    "    print(round (ans , 2))\n",
    "elif planet_name == 'jupiter':\n",
    "    ans = (weight * jupiter) / 100\n",
    "    print(round (ans , 2))\n",
    "elif planet_name == 'saturn':\n",
    "    ans = (weight * saturn) / 100\n",
    "    print(round (ans , 2))\n",
    "elif planet_name == 'uranus':\n",
    "    ans = (weight * uranus) / 100\n",
    "    print(round (ans , 2))\n",
    "elif planet_name == 'neptune':\n",
    "    ans = (weight * neptune) / 100\n",
    "    print(round (ans , 2))\n",
    "else:\n",
    "    print('Invalid planet')"
   ]
  }
 ],
 "metadata": {
  "kernelspec": {
   "display_name": "Python 3",
   "language": "python",
   "name": "python3"
  },
  "language_info": {
   "codemirror_mode": {
    "name": "ipython",
    "version": 3
   },
   "file_extension": ".py",
   "mimetype": "text/x-python",
   "name": "python",
   "nbconvert_exporter": "python",
   "pygments_lexer": "ipython3",
   "version": "3.13.2"
  }
 },
 "nbformat": 4,
 "nbformat_minor": 5
}
