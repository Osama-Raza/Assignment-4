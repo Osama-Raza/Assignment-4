{
 "cells": [
  {
   "cell_type": "code",
   "execution_count": null,
   "id": "60788a2a",
   "metadata": {},
   "outputs": [
    {
     "name": "stdout",
     "output_type": "stream",
     "text": [
      "['a', 'b', 'c', 'd', 'e']\n",
      "d\n"
     ]
    }
   ],
   "source": [
    "def access_elemets(my_list , index):\n",
    "    if 0 <= index < len(my_list):\n",
    "        return my_list[index]\n",
    "    else:\n",
    "        return ('No data found')\n",
    "\n",
    "def modify_element(my_list , index , value):\n",
    "    if 0 <= index < len(my_list):\n",
    "        my_list[index] = value \n",
    "        return my_list\n",
    "        \n",
    "    else:\n",
    "         return ('No value found')\n",
    "\n",
    "def slicing_element(my_list , start_indx , end_indx):\n",
    "    if 0 <= start_indx <= end_indx < len(my_list):\n",
    "       new_list = my_list[start_indx:end_indx]\n",
    "       return new_list\n",
    "    else:\n",
    "       return ('Value not found')\n",
    "\n",
    "def game():\n",
    "    my_list = ['a' ,'b' , 'c' , 'd' , 'e']\n",
    "    print (my_list)\n",
    "    operation = input ('Enter the operation: access , modify , slice').strip().lower()\n",
    "    if operation == 'access':\n",
    "        index = int(input('Enter index number: '))\n",
    "        print(access_elemets(my_list , index))\n",
    "   \n",
    "    elif operation == 'modify':\n",
    "        index = int(input('Enter index number: '))\n",
    "        value = input ('Enter a value you want to change: ')\n",
    "        print(modify_element(my_list , index , value))\n",
    "    elif operation == 'slice':\n",
    "        start_indx = int(input('Enter start index: '))\n",
    "        end_indx = int(input('Enter last index: '))\n",
    "        print (slicing_element(my_list , start_indx , end_indx))\n",
    "    else:\n",
    "        print ('Invalid operation')\n",
    "game()"
   ]
  }
 ],
 "metadata": {
  "kernelspec": {
   "display_name": "Python 3",
   "language": "python",
   "name": "python3"
  },
  "language_info": {
   "codemirror_mode": {
    "name": "ipython",
    "version": 3
   },
   "file_extension": ".py",
   "mimetype": "text/x-python",
   "name": "python",
   "nbconvert_exporter": "python",
   "pygments_lexer": "ipython3",
   "version": "3.13.2"
  }
 },
 "nbformat": 4,
 "nbformat_minor": 5
}
